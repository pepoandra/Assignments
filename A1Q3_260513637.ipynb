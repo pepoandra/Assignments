{
 "cells": [
  {
   "cell_type": "code",
   "execution_count": 1,
   "metadata": {},
   "outputs": [],
   "source": [
    "%matplotlib inline\n",
    "\n",
    "import numpy as np\n",
    "import matplotlib\n",
    "import os\n",
    "import pandas as pd\n",
    "import matplotlib.pyplot as plt"
   ]
  },
  {
   "cell_type": "code",
   "execution_count": 2,
   "metadata": {},
   "outputs": [],
   "source": [
    "def fixData(data, r):\n",
    "    mean = np.zeros(123)\n",
    "    for i in range(5, 128):\n",
    "        valuesCounter = 0\n",
    "        for j in range(0, communities.shape[0]-1):\n",
    "            if(communities[i][j] != \"?\"):\n",
    "                valuesCounter += 1\n",
    "                mean[i-5] += float(communities[i][j])\n",
    "        mean[i-5] /= valuesCounter\n",
    "    \n",
    "    newData = np.array(data)\n",
    "    for i in range(0, r):\n",
    "        for j in range(0, newData.shape[0]-1):\n",
    "        \n",
    "            if(newData[j][i] == \"?\"):\n",
    "                newData[j][i] = str(mean[i])\n",
    "            newData[j][i] = float(newData[j][i])\n",
    "    df = pd.DataFrame(newData)\n",
    "    df.to_csv(\"new_data.csv\", header=None, index=None)\n",
    "    return df"
   ]
  },
  {
   "cell_type": "code",
   "execution_count": 3,
   "metadata": {},
   "outputs": [],
   "source": [
    "def predict2L(x, y, reg, degree):\n",
    "    regTerm = reg * np.identity(degree+1)\n",
    "    term1 = np.linalg.inv(np.matmul(x.T, x) + regTerm)\n",
    "    term2 = np.matmul(x.T, y)\n",
    "    w = np.matmul(term1, term2)\n",
    "    return w"
   ]
  },
  {
   "cell_type": "code",
   "execution_count": 4,
   "metadata": {},
   "outputs": [],
   "source": [
    "#should use poly1d instead\n",
    "def PLR(degree, x):\n",
    "    ft = np.expand_dims(x, axis=1)\n",
    "    for i in range(0, degree+1): \n",
    "        ft = np.insert(ft, i, x**(i), axis=1)\n",
    "    ft = np.delete(ft, -1, axis=1)\n",
    "    return ft"
   ]
  },
  {
   "cell_type": "code",
   "execution_count": 5,
   "metadata": {},
   "outputs": [],
   "source": [
    "def calculatePrediction(ex, w):\n",
    "        result = 0\n",
    "        for i in range(len(w)):\n",
    "            result += np.array(ex)**i * w[i]\n",
    "        return result"
   ]
  },
  {
   "cell_type": "code",
   "execution_count": 6,
   "metadata": {},
   "outputs": [],
   "source": [
    "def MSE(predictedY, actualY):\n",
    "    error = 0\n",
    "    for i in range(0, len(actualY)):\n",
    "        error += (predictedY[i] - actualY[i])**2\n",
    "    error /= len(actualY)\n",
    "    return error"
   ]
  },
  {
   "cell_type": "code",
   "execution_count": 7,
   "metadata": {},
   "outputs": [],
   "source": [
    "dir =  os.path.dirname(os.path.realpath('__file__'))\n",
    "\n",
    "dataPath = dir +  \"/Datasets/communities.data\"\n",
    "\n",
    "# Attribute Information: (122 predictive, 5 non-predictive, 1 goal) \n",
    "communities = pd.read_csv(dataPath, header=None, usecols=range(5, 128))\n"
   ]
  },
  {
   "cell_type": "code",
   "execution_count": null,
   "metadata": {},
   "outputs": [],
   "source": []
  },
  {
   "cell_type": "code",
   "execution_count": 8,
   "metadata": {},
   "outputs": [],
   "source": [
    "data = fixData(communities, 123)\n",
    "data = data.astype(float)                                   \n"
   ]
  },
  {
   "cell_type": "code",
   "execution_count": null,
   "metadata": {},
   "outputs": [],
   "source": []
  },
  {
   "cell_type": "code",
   "execution_count": 9,
   "metadata": {},
   "outputs": [],
   "source": [
    "r = int((data.shape[0]+1)/5)\n",
    "one = data.values[0:r,:]\n",
    "two = data.values[r:2*r,:]\n",
    "three = data.values[2*r:3*r,:]\n",
    "four = data.values[3*r:4*r,:]\n",
    "five = data.values[4*r:,:]\n",
    "\n",
    "\n"
   ]
  },
  {
   "cell_type": "code",
   "execution_count": null,
   "metadata": {},
   "outputs": [],
   "source": []
  },
  {
   "cell_type": "code",
   "execution_count": null,
   "metadata": {},
   "outputs": [],
   "source": []
  }
 ],
 "metadata": {
  "kernelspec": {
   "display_name": "Python 3",
   "language": "python",
   "name": "python3"
  },
  "language_info": {
   "codemirror_mode": {
    "name": "ipython",
    "version": 3
   },
   "file_extension": ".py",
   "mimetype": "text/x-python",
   "name": "python",
   "nbconvert_exporter": "python",
   "pygments_lexer": "ipython3",
   "version": "3.5.2"
  }
 },
 "nbformat": 4,
 "nbformat_minor": 2
}

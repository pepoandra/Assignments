{
 "cells": [
  {
   "cell_type": "code",
   "execution_count": 1,
   "metadata": {},
   "outputs": [],
   "source": [
    "import numpy as np\n",
    "import matplotlib\n",
    "from matplotlib import pyplot as plt\n",
    "import pandas as pd\n",
    "import os\n",
    "import sklearn as skl\n",
    "from sklearn.metrics import f1_score\n",
    "from sklearn import tree\n",
    "\n",
    "from sklearn import preprocessing\n",
    "from sklearn.dummy import DummyClassifier\n",
    "from sklearn.feature_extraction.text import CountVectorizer\n",
    "from operator import itemgetter\n",
    "from collections import Counter\n",
    "from sklearn.feature_extraction.text import TfidfVectorizer\n",
    "from sklearn.naive_bayes import GaussianNB\n",
    "from sklearn.naive_bayes import BernoulliNB\n",
    "from sklearn.tree import DecisionTreeClassifier\n",
    "from sklearn.svm import SVC\n",
    "\n",
    "from scipy.sparse import csr_matrix\n",
    "import re\n",
    "import csv\n"
   ]
  },
  {
   "cell_type": "code",
   "execution_count": 2,
   "metadata": {},
   "outputs": [],
   "source": [
    "### Q1\n",
    "\n",
    "base_dir = os.path.dirname(os.path.realpath('_file_'))\n",
    "IMDB_train_dir = base_dir + \"/Datasets/IMDB-train.txt\"\n",
    "IMDB_test_dir = base_dir + \"/Datasets/IMDB-test.txt\"\n",
    "IMDB_valid_dir = base_dir + \"/Datasets/IMDB-valid.txt\"\n",
    "yelp_train_dir = base_dir + \"/Datasets/yelp-train.txt\"\n",
    "yelp_test_dir = base_dir + \"/Datasets/yelp-test.txt\"\n",
    "yelp_valid_dir = base_dir + \"/Datasets/yelp-valid.txt\""
   ]
  },
  {
   "cell_type": "code",
   "execution_count": 3,
   "metadata": {},
   "outputs": [],
   "source": [
    "def retrieve_data(fileName):\n",
    "    data = pd.read_csv(fileName, sep='\\t', header=None, skipinitialspace=True).dropna(axis=1, how=\"all\")\n",
    "    data_reviews  = np.array(data[0].str.lower().str.replace('[^a-zA-Z\\s]','').as_matrix())\n",
    "    data_class = data[1].as_matrix()\n",
    "    return data, data_reviews, data_class\n",
    "    \n",
    "IMDB_train, IMDB_train_reviews, IMDB_train_class = retrieve_data(IMDB_train_dir)\n",
    "yelp_train, yelp_train_reviews, yelp_train_class = retrieve_data(yelp_train_dir)\n",
    "\n",
    "IMDB_valid, IMDB_valid_reviews, IMDB_valid_class = retrieve_data(IMDB_valid_dir)\n",
    "yelp_valid, yelp_valid_reviews, yelp_valid_class = retrieve_data(yelp_valid_dir)\n",
    "\n",
    "IMDB_test, IMDB_test_reviews, IMDB_test_class = retrieve_data(IMDB_test_dir)\n",
    "yelp_test, yelp_test_reviews, yelp_test_class = retrieve_data(yelp_test_dir)\n",
    "\n"
   ]
  },
  {
   "cell_type": "code",
   "execution_count": 4,
   "metadata": {},
   "outputs": [],
   "source": [
    "def process_data(train_data):\n",
    "    vctzr = CountVectorizer(token_pattern='(?u)\\\\b\\\\w+\\\\b')\n",
    "    vctr = vctzr.fit_transform(train_data)\n",
    "    frequency = np.ravel(vctr.sum(axis=0))\n",
    "    voc = [v[0] for v in sorted(vctzr.vocabulary_.items(), key=itemgetter(1))]\n",
    "    freq_dist = np.array(sorted(dict(zip(voc, frequency)).items(), key=itemgetter(1), reverse=True))\n",
    "    wordDict = {}\n",
    "    wordFreq = freq_dist[:10000, :]\n",
    "    for word in wordFreq[:10000, 0]:\n",
    "        wordDict.setdefault(word, len(wordDict)+ 1)\n",
    "    voc = np.insert(wordFreq, 1, np.fromiter(wordDict.values(), dtype=int), axis=1)\n",
    "    return wordDict, voc\n",
    "\n",
    "\n",
    "IMDB_dict, IMDB_vocab = process_data(IMDB_train_reviews)\n",
    "yelp_dict, yelp_vocab = process_data(yelp_train_reviews)\n"
   ]
  },
  {
   "cell_type": "code",
   "execution_count": 5,
   "metadata": {},
   "outputs": [],
   "source": [
    "def create_bags(reviews, dictionary):\n",
    "    binary_bag = []\n",
    "    freq_bag = []\n",
    "    all_review_IDs = []\n",
    "    for review in reviews:\n",
    "        reviewWords = np.array(review.split())\n",
    "        reviewIDs = []\n",
    "\n",
    "        review_bin_bag = review_freq_bag = np.zeros((10000,), dtype=int)\n",
    "\n",
    "        for word in reviewWords:\n",
    "            if word in dictionary:\n",
    "                review_bin_bag[dictionary[word]-1] = 1\n",
    "                review_freq_bag[dictionary[word]-1] += 1\n",
    "                reviewIDs.append(dictionary[word])\n",
    "        binary_bag.append(review_bin_bag)\n",
    "        if(np.sum(review_freq_bag, axis=0) != 0):\n",
    "            freq_bag.append(review_freq_bag / np.sum(review_freq_bag, axis=0))\n",
    "        else:\n",
    "            freq_bag.append(review_freq_bag)\n",
    "        all_review_IDs.append(np.asarray(reviewIDs))\n",
    "    return all_review_IDs, csr_matrix(binary_bag), csr_matrix(freq_bag)\n",
    "\n",
    "\n",
    "IMDB_review_IDs_train, IMDB_binary_train, IMDB_freq_train = create_bags(IMDB_train_reviews, IMDB_dict)\n",
    "IMDB_review_IDs_test, IMDB_binary_test, IMDB_freq_test = create_bags(IMDB_test_reviews, IMDB_dict)\n",
    "IMDB_review_IDs_valid, IMDB_binary_valid, IMDB_freq_valid = create_bags(IMDB_valid_reviews, IMDB_dict)\n",
    "yelp_review_IDs_train, yelp_binary_train, yelp_freq_train = create_bags(yelp_train_reviews, yelp_dict)\n",
    "yelp_review_IDs_test, yelp_binary_test, yelp_freq_test = create_bags(yelp_test_reviews, yelp_dict)\n",
    "yelp_review_IDs_valid, yelp_binary_valid, yelp_freq_valid = create_bags(yelp_valid_reviews, yelp_dict)\n"
   ]
  },
  {
   "cell_type": "code",
   "execution_count": 6,
   "metadata": {},
   "outputs": [],
   "source": [
    "def append_reviews(reviews, data):\n",
    "    vectors = list()\n",
    "    for review in reviews:\n",
    "        vectors.append(\" \".join(str(x) for x in review))\n",
    "    return np.c_[vectors, data]\n",
    "\n",
    "\n",
    "IMDB_train = append_reviews(IMDB_review_IDs_train,  IMDB_train_class )\n",
    "IMDB_test = append_reviews(IMDB_review_IDs_test,  IMDB_test_class )\n",
    "IMDB_valid = append_reviews(IMDB_review_IDs_valid,  IMDB_valid_class )\n",
    "yelp_train = append_reviews(yelp_review_IDs_train,  yelp_train_class )\n",
    "yelp_test = append_reviews(yelp_review_IDs_test,  yelp_test_class )\n",
    "yelp_valid = append_reviews(yelp_review_IDs_valid,  yelp_valid_class )"
   ]
  },
  {
   "cell_type": "code",
   "execution_count": 7,
   "metadata": {},
   "outputs": [],
   "source": [
    "def df_to_csv(vocabulary, fileName) :\n",
    "    pd.DataFrame(vocabulary).to_csv(fileName, sep='\\t', encoding='utf-8', header=None, index=False, quoting=csv.QUOTE_NONE)\n",
    "\n",
    "df_to_csv(IMDB_vocab, \"IMDB-vocab.txt\")\n",
    "df_to_csv(yelp_vocab, \"yelp-vocab.txt\")\n",
    "\n",
    "df_to_csv(IMDB_train, \"IMDB-train.txt\" )\n",
    "df_to_csv(IMDB_test, \"IMDB-test.txt\" )\n",
    "df_to_csv(IMDB_valid, \"IMDB-valid.txt\" )\n",
    "\n",
    "df_to_csv(yelp_train, \"yelp-train.txt\" )\n",
    "df_to_csv(yelp_test, \"yelp-test.txt\" )\n",
    "df_to_csv(yelp_valid, \"yelp-valid.txt\" )\n"
   ]
  },
  {
   "cell_type": "code",
   "execution_count": 8,
   "metadata": {},
   "outputs": [
    {
     "name": "stdout",
     "output_type": "stream",
     "text": [
      "Yelp - Binary Bag\n",
      "Random Classifier\n",
      "F1 train:  0.18120189443216356\n",
      "F1 Valid:  0.16733179661207848\n",
      "F1 Test:  0.1867629398371078\n",
      "\n",
      "\n",
      "Majority Classifier\n",
      "F1 Train:  0.10426700464723279\n",
      "F1 Valid:  0.10501474926253689\n",
      "F1 Test:  0.10392301998519615\n",
      "\n",
      "\n"
     ]
    },
    {
     "name": "stderr",
     "output_type": "stream",
     "text": [
      "/usr/local/lib/python3.5/dist-packages/sklearn/metrics/classification.py:1135: UndefinedMetricWarning: F-score is ill-defined and being set to 0.0 in labels with no predicted samples.\n",
      "  'precision', 'predicted', average, warn_for)\n"
     ]
    }
   ],
   "source": [
    "### Q2\n",
    "\n",
    "\n",
    "#Yelp \n",
    "\n",
    "\n",
    "rand_train = np.random.choice([1,2,3,4,5], len(yelp_train_class))\n",
    "rand_valid = np.random.choice([1,2,3,4,5], len(yelp_valid_class))\n",
    "rand_test = np.random.choice([1,2,3,4,5], len(yelp_test_class))\n",
    "\n",
    "majority_train = np.argmax(np.bincount(yelp_train_class))\n",
    "majority_valid = np.argmax(np.bincount(yelp_valid_class))\n",
    "majority_test = np.argmax(np.bincount(yelp_test_class))\n",
    "majority_array_valid = np.array([majority_valid]*len(yelp_valid_class))\n",
    "majority_array_train = np.array([majority_train]*len(yelp_train_class))\n",
    "majority_array_test = np.array([majority_test]*len(yelp_test_class))\n",
    "\n",
    "print(\"Yelp - Binary Bag\")\n",
    "print(\"Random Classifier\")\n",
    "print(\"F1 train: \", skl.metrics.f1_score(yelp_train_class, rand_train, average='macro'))\n",
    "print(\"F1 Valid: \", skl.metrics.f1_score(yelp_valid_class, rand_valid, average='macro'))\n",
    "print(\"F1 Test: \", skl.metrics.f1_score(yelp_test_class, rand_test, average='macro'))\n",
    "print(\"\\n\")\n",
    "\n",
    "\n",
    "\n",
    "print(\"Majority Classifier\")\n",
    "print(\"F1 Train: \", skl.metrics.f1_score(yelp_train_class, majority_array_train, average='macro'))\n",
    "print(\"F1 Valid: \", skl.metrics.f1_score(yelp_valid_class, majority_array_valid, average='macro'))\n",
    "print(\"F1 Test: \", skl.metrics.f1_score(yelp_test_class, majority_array_test, average='macro'))\n",
    "print(\"\\n\")\n",
    "\n",
    "\n",
    "\n"
   ]
  },
  {
   "cell_type": "code",
   "execution_count": 9,
   "metadata": {
    "scrolled": true
   },
   "outputs": [
    {
     "data": {
      "text/plain": [
       "Text(0,0.5,'F_Measure')"
      ]
     },
     "execution_count": 9,
     "metadata": {},
     "output_type": "execute_result"
    },
    {
     "data": {
      "image/png": "[encoded data removed]",
      "text/plain": [
       "<matplotlib.figure.Figure at 0x7f01cea379b0>"
      ]
     },
     "metadata": {},
     "output_type": "display_data"
    }
   ],
   "source": [
    "alphas = np.linspace(0.000001, 0.3, 100)\n",
    "f1_measures = []\n",
    "for a in alphas:\n",
    "    classifier = skl.naive_bayes.BernoulliNB(alpha=a)\n",
    "    classifier.fit(yelp_binary_train, yelp_train_class)\n",
    "    result = classifier.predict(yelp_binary_valid)\n",
    "    f1_measures.append(skl.metrics.f1_score(yelp_valid_class, result, average='macro'))\n",
    "\n",
    "\n",
    "plt.plot(alphas, f1_measures, c='g')\n",
    "plt.xlabel(\"Alpha\")\n",
    "plt.ylabel(\"F_Measure\")\n"
   ]
  },
  {
   "cell_type": "code",
   "execution_count": 10,
   "metadata": {},
   "outputs": [
    {
     "name": "stdout",
     "output_type": "stream",
     "text": [
      "Naive Bayes Classifier\n",
      "Best Alpha:  0.015152464646464647\n",
      "F1 with best alpha: 0.3929145459683094\n",
      "F1 Train:  0.7654692922969333\n",
      "F1 Valid:  0.3929145459683094\n",
      "F1 Test:  0.36940002171711317\n",
      "\n",
      "\n"
     ]
    }
   ],
   "source": [
    "print(\"Naive Bayes Classifier\")\n",
    "\n",
    "\n",
    "best_alpha = alphas[np.argmax(f1_measures)]\n",
    "print(\"Best Alpha:  \" + str(best_alpha))\n",
    "print(\"F1 with best alpha: \" + str(np.max(f1_measures)))\n",
    "\n",
    "classifier = skl.naive_bayes.BernoulliNB(alpha=best_alpha)\n",
    "classifier.fit(yelp_binary_train, yelp_train_class)\n",
    "\n",
    "result_train = classifier.predict(yelp_binary_train)\n",
    "result_test = classifier.predict(yelp_binary_test)\n",
    "result_valid = classifier.predict(yelp_binary_valid)\n",
    "\n",
    "\n",
    "print(\"F1 Train: \", skl.metrics.f1_score(yelp_train_class, result_train, average='macro'))\n",
    "print(\"F1 Valid: \", skl.metrics.f1_score(yelp_valid_class, result_valid, average='macro'))\n",
    "print(\"F1 Test: \", skl.metrics.f1_score(yelp_test_class, result_test, average='macro'))\n",
    "print(\"\\n\")\n"
   ]
  },
  {
   "cell_type": "code",
   "execution_count": 11,
   "metadata": {},
   "outputs": [
    {
     "name": "stdout",
     "output_type": "stream",
     "text": [
      "Decision Tree Classifier\n",
      "F1 Train:  1.0\n",
      "F1 Valid:  0.29200475534809617\n",
      "F1 Test:  0.29242246381464165\n",
      "\n",
      "\n"
     ]
    }
   ],
   "source": [
    "print(\"Decision Tree Classifier\")\n",
    "\n",
    "classifier  = tree.DecisionTreeClassifier()\n",
    "classifier.fit(yelp_binary_train, yelp_train_class)\n",
    "    \n",
    "result_train = classifier.predict(yelp_binary_train)\n",
    "result_test = classifier.predict(yelp_binary_test)\n",
    "result_valid = classifier.predict(yelp_binary_valid)\n",
    "\n",
    "print(\"F1 Train: \", skl.metrics.f1_score(yelp_train_class, result_train, average='macro'))\n",
    "print(\"F1 Valid: \", skl.metrics.f1_score(yelp_valid_class, result_valid, average='macro'))\n",
    "print(\"F1 Test: \", skl.metrics.f1_score(yelp_test_class, result_test, average='macro'))\n",
    "print(\"\\n\")\n"
   ]
  },
  {
   "cell_type": "code",
   "execution_count": 22,
   "metadata": {},
   "outputs": [
    {
     "name": "stdout",
     "output_type": "stream",
     "text": [
      "Linear SVM Classifier\n",
      "Loss squared_hinge\n",
      "Penalty l2\n",
      "F1 Train:  0.9991546021160594\n",
      "F1 Valid:  0.41022513701013946\n",
      "F1 Test:  0.3955976281814554\n",
      "\n",
      "\n"
     ]
    }
   ],
   "source": [
    "##SVM binary\n",
    "\n",
    "f1_measures = []\n",
    "\n",
    "classifier = skl.svm.LinearSVC(penalty=\"l1\", dual=False)\n",
    "classifier.fit(yelp_binary_train, yelp_train_class)\n",
    "result = classifier.predict(yelp_binary_valid)\n",
    "f1_measures.append(skl.metrics.f1_score(yelp_valid_class, result, average='macro'))\n",
    "           \n",
    "classifier = skl.svm.LinearSVC(penalty=\"l2\", loss=\"hinge\")\n",
    "classifier.fit(yelp_binary_train, yelp_train_class)\n",
    "result = classifier.predict(yelp_binary_valid)\n",
    "f1_measures.append(skl.metrics.f1_score(yelp_valid_class, result, average='macro'))\n",
    "\n",
    "classifier = skl.svm.LinearSVC(penalty=\"l2\", loss=\"squared_hinge\")\n",
    "classifier.fit(yelp_binary_train, yelp_train_class)\n",
    "result = classifier.predict(yelp_binary_valid)\n",
    "f1_measures.append(skl.metrics.f1_score(yelp_valid_class, result, average='macro'))\n",
    "        \n",
    "arg = np.argmax(f1_measures)\n",
    "p=\"l2\"\n",
    "l = \"hinge\"\n",
    "if arg==2:\n",
    "    l = \"squared_hinge\"\n",
    "if(arg==0):\n",
    "    p= \"l1\"\n",
    "    l = \"-\"\n",
    "    classifier = skl.svm.LinearSVC(penalty=p, dual=False)\n",
    "else:\n",
    "    classifier = skl.svm.LinearSVC(penalty=p, loss=l)\n",
    "\n",
    "    \n",
    "print(\"Linear SVM Classifier\")\n",
    "print(\"Loss \" + str(l))\n",
    "print(\"Penalty \" + str(p))\n",
    "\n",
    "classifier.fit(yelp_binary_train, yelp_train_class)\n",
    "result = classifier.predict(yelp_binary_test)\n",
    "\n",
    "\n",
    "result_train = classifier.predict(yelp_binary_train)\n",
    "result_test = classifier.predict(yelp_binary_test)\n",
    "result_valid = classifier.predict(yelp_binary_valid)\n",
    "\n",
    "print(\"F1 Train: \", skl.metrics.f1_score(yelp_train_class, result_train, average='macro'))\n",
    "print(\"F1 Valid: \", skl.metrics.f1_score(yelp_valid_class, result_valid, average='macro'))\n",
    "print(\"F1 Test: \", skl.metrics.f1_score(yelp_test_class, result_test, average='macro'))\n",
    "print(\"\\n\")\n"
   ]
  },
  {
   "cell_type": "code",
   "execution_count": 13,
   "metadata": {},
   "outputs": [
    {
     "name": "stdout",
     "output_type": "stream",
     "text": [
      "Yelp - Frequency Bag\n",
      "Naive Bayes Classifier\n",
      "F1 Train:  0.7428255483490837\n",
      "F1 Valid:  0.25803799016927587\n",
      "F1 Test:  0.24630966964557435\n",
      "\n",
      "\n"
     ]
    }
   ],
   "source": [
    "### Q3\n",
    "\n",
    "print(\"Yelp - Frequency Bag\")\n",
    "\n",
    "print(\"Naive Bayes Classifier\")\n",
    "\n",
    "classifier = skl.naive_bayes.GaussianNB()\n",
    "classifier.fit(yelp_freq_train.toarray(), yelp_train_class)\n",
    "\n",
    "result_train = classifier.predict(yelp_freq_train.toarray())\n",
    "result_test = classifier.predict(yelp_freq_test.toarray())\n",
    "result_valid = classifier.predict(yelp_freq_valid.toarray())\n",
    "\n",
    "\n",
    "print(\"F1 Train: \", skl.metrics.f1_score(yelp_train_class, result_train, average='macro'))\n",
    "print(\"F1 Valid: \", skl.metrics.f1_score(yelp_valid_class, result_valid, average='macro'))\n",
    "print(\"F1 Test: \", skl.metrics.f1_score(yelp_test_class, result_test, average='macro'))\n",
    "print(\"\\n\")\n"
   ]
  },
  {
   "cell_type": "code",
   "execution_count": 14,
   "metadata": {},
   "outputs": [
    {
     "name": "stdout",
     "output_type": "stream",
     "text": [
      "Decision Tree Classifier\n",
      "F1 Train:  1.0\n",
      "F1 Valid:  0.2772497549383351\n",
      "F1 Test:  0.2825438356276414\n",
      "\n",
      "\n"
     ]
    }
   ],
   "source": [
    "\n",
    "print(\"Decision Tree Classifier\")\n",
    "\n",
    "classifier  = tree.DecisionTreeClassifier()\n",
    "classifier.fit(yelp_freq_train, yelp_train_class)\n",
    "    \n",
    "result_train = classifier.predict(yelp_freq_train)\n",
    "result_test = classifier.predict(yelp_freq_test)\n",
    "result_valid = classifier.predict(yelp_freq_valid)\n",
    "\n",
    "\n",
    "print(\"F1 Train: \", skl.metrics.f1_score(yelp_train_class, result_train, average='macro'))\n",
    "print(\"F1 Valid: \", skl.metrics.f1_score(yelp_valid_class, result_valid, average='macro'))\n",
    "print(\"F1 Test: \", skl.metrics.f1_score(yelp_test_class, result_test, average='macro'))\n",
    "print(\"\\n\")\n"
   ]
  },
  {
   "cell_type": "code",
   "execution_count": 15,
   "metadata": {},
   "outputs": [
    {
     "name": "stdout",
     "output_type": "stream",
     "text": [
      "Decision Tree Classifier\n",
      "Loss hinge\n",
      "Penalty l2\n",
      "F1 Train:  0.5792233017783223\n",
      "F1 Valid:  0.36660610717247205\n",
      "F1 Test:  0.35203522213951255\n",
      "\n",
      "\n"
     ]
    }
   ],
   "source": [
    "##SVM binary\n",
    "\n",
    "f1_measures = []\n",
    "\n",
    "classifier = skl.svm.LinearSVC(penalty=\"l1\", dual=False)\n",
    "classifier.fit(yelp_freq_train, yelp_train_class)\n",
    "result = classifier.predict(yelp_freq_valid)\n",
    "f1_measures.append(skl.metrics.f1_score(yelp_valid_class, result, average='macro'))\n",
    "           \n",
    "classifier = skl.svm.LinearSVC(penalty=\"l2\", loss=\"hinge\")\n",
    "classifier.fit(yelp_freq_train, yelp_train_class)\n",
    "result = classifier.predict(yelp_freq_valid)\n",
    "f1_measures.append(skl.metrics.f1_score(yelp_valid_class, result, average='macro'))\n",
    "\n",
    "classifier = skl.svm.LinearSVC(penalty=\"l2\", loss=\"squared_hinge\")\n",
    "classifier.fit(yelp_freq_train, yelp_train_class)\n",
    "result = classifier.predict(yelp_freq_valid)\n",
    "f1_measures.append(skl.metrics.f1_score(yelp_valid_class, result, average='macro'))\n",
    "        \n",
    "arg = np.argmax(f1_measures)\n",
    "p=\"l2\"\n",
    "l = \"hinge\"\n",
    "if arg==2:\n",
    "    l = \"squared_hinge\"\n",
    "if(arg==0):\n",
    "    p= \"l1\"\n",
    "    l = \"-\"\n",
    "    classifier = skl.svm.LinearSVC(penalty=p, dual=False)\n",
    "else:\n",
    "    classifier = skl.svm.LinearSVC(penalty=p, loss=l)\n",
    "\n",
    "    \n",
    "print(\"Decision Tree Classifier\")\n",
    "print(\"Loss \" + str(l))\n",
    "print(\"Penalty \" + str(p))\n",
    "\n",
    "classifier.fit(yelp_freq_train, yelp_train_class)\n",
    "result = classifier.predict(yelp_freq_test)\n",
    "\n",
    "\n",
    "result_train = classifier.predict(yelp_freq_train)\n",
    "result_test = classifier.predict(yelp_freq_test)\n",
    "result_valid = classifier.predict(yelp_freq_valid)\n",
    "\n",
    "print(\"F1 Train: \", skl.metrics.f1_score(yelp_train_class, result_train, average='macro'))\n",
    "print(\"F1 Valid: \", skl.metrics.f1_score(yelp_valid_class, result_valid, average='macro'))\n",
    "print(\"F1 Test: \", skl.metrics.f1_score(yelp_test_class, result_test, average='macro'))\n",
    "print(\"\\n\")"
   ]
  },
  {
   "cell_type": "code",
   "execution_count": 16,
   "metadata": {},
   "outputs": [
    {
     "name": "stdout",
     "output_type": "stream",
     "text": [
      "IMDB - Binary Bag\n",
      "Random Classifier\n",
      "F1 train:  0.046364126470681506\n",
      "F1 Valid:  0.04756463362376803\n",
      "F1 Test:  0.04806077263704383\n",
      "\n",
      "\n"
     ]
    },
    {
     "name": "stderr",
     "output_type": "stream",
     "text": [
      "/usr/local/lib/python3.5/dist-packages/sklearn/metrics/classification.py:1135: UndefinedMetricWarning: F-score is ill-defined and being set to 0.0 in labels with no predicted samples.\n",
      "  'precision', 'predicted', average, warn_for)\n",
      "/usr/local/lib/python3.5/dist-packages/sklearn/metrics/classification.py:1137: UndefinedMetricWarning: F-score is ill-defined and being set to 0.0 in labels with no true samples.\n",
      "  'recall', 'true', average, warn_for)\n"
     ]
    }
   ],
   "source": [
    "#### Q4\n",
    "\n",
    "#IMDB\n",
    "\n",
    "\n",
    "rand_train = np.random.choice([1,2,3,4,5], len(IMDB_train_class))\n",
    "rand_valid = np.random.choice([1,2,3,4,5], len(IMDB_valid_class))\n",
    "rand_test = np.random.choice([1,2,3,4,5], len(IMDB_test_class))\n",
    "\n",
    "print(\"IMDB - Binary Bag\")\n",
    "print(\"Random Classifier\")\n",
    "print(\"F1 train: \", skl.metrics.f1_score(IMDB_train_class, rand_train, average='macro'))\n",
    "print(\"F1 Valid: \", skl.metrics.f1_score(IMDB_valid_class, rand_valid, average='macro'))\n",
    "print(\"F1 Test: \", skl.metrics.f1_score(IMDB_test_class, rand_test, average='macro'))\n",
    "print(\"\\n\")\n",
    "\n"
   ]
  },
  {
   "cell_type": "code",
   "execution_count": 17,
   "metadata": {},
   "outputs": [
    {
     "data": {
      "text/plain": [
       "Text(0,0.5,'F_Measure')"
      ]
     },
     "execution_count": 17,
     "metadata": {},
     "output_type": "execute_result"
    },
    {
     "data": {
      "image/png": "[encoded data removed]",
      "text/plain": [
       "<matplotlib.figure.Figure at 0x7f020d54d8d0>"
      ]
     },
     "metadata": {},
     "output_type": "display_data"
    }
   ],
   "source": [
    "alphas = np.linspace(0.000001, 0.3, 100)\n",
    "f1_measures = []\n",
    "for a in alphas:\n",
    "    classifier = skl.naive_bayes.BernoulliNB(alpha=a)\n",
    "    classifier.fit(IMDB_binary_train, IMDB_train_class)\n",
    "    result = classifier.predict(IMDB_binary_valid)\n",
    "    f1_measures.append(skl.metrics.f1_score(IMDB_valid_class, result, average='macro'))\n",
    "\n",
    "\n",
    "plt.plot(alphas, f1_measures, c='g')\n",
    "plt.xlabel(\"Alpha\")\n",
    "plt.ylabel(\"F_Measure\")\n"
   ]
  },
  {
   "cell_type": "code",
   "execution_count": 18,
   "metadata": {},
   "outputs": [
    {
     "name": "stdout",
     "output_type": "stream",
     "text": [
      "Naive Bayes Classifier\n",
      "Best Alpha:  0.18787916161616164\n",
      "F1 with best alpha: 0.8437639032121982\n",
      "F1 Train:  0.8704249947690955\n",
      "F1 Valid:  0.8437639032121982\n",
      "F1 Test:  0.8317881814509224\n",
      "\n",
      "\n"
     ]
    }
   ],
   "source": [
    "print(\"Naive Bayes Classifier\")\n",
    "\n",
    "\n",
    "best_alpha = alphas[np.argmax(f1_measures)]\n",
    "print(\"Best Alpha:  \" + str(best_alpha))\n",
    "print(\"F1 with best alpha: \" + str(np.max(f1_measures)))\n",
    "\n",
    "classifier = skl.naive_bayes.BernoulliNB(alpha=best_alpha)\n",
    "classifier.fit(IMDB_binary_train, IMDB_train_class)\n",
    "\n",
    "result_train = classifier.predict(IMDB_binary_train)\n",
    "result_test = classifier.predict(IMDB_binary_test)\n",
    "result_valid = classifier.predict(IMDB_binary_valid)\n",
    "\n",
    "\n",
    "print(\"F1 Train: \", skl.metrics.f1_score(IMDB_train_class, result_train, average='macro'))\n",
    "print(\"F1 Valid: \", skl.metrics.f1_score(IMDB_valid_class, result_valid, average='macro'))\n",
    "print(\"F1 Test: \", skl.metrics.f1_score(IMDB_test_class, result_test, average='macro'))\n",
    "print(\"\\n\")\n"
   ]
  },
  {
   "cell_type": "code",
   "execution_count": 19,
   "metadata": {
    "scrolled": false
   },
   "outputs": [
    {
     "name": "stdout",
     "output_type": "stream",
     "text": [
      "Decision Tree Classifier\n",
      "F1 Train:  1.0\n",
      "F1 Valid:  0.6810747379299914\n",
      "F1 Test:  0.6901949434857895\n",
      "\n",
      "\n"
     ]
    }
   ],
   "source": [
    "print(\"Decision Tree Classifier\")\n",
    "\n",
    "classifier  = tree.DecisionTreeClassifier()\n",
    "classifier.fit(IMDB_freq_train, IMDB_train_class)\n",
    "    \n",
    "result_train = classifier.predict(IMDB_freq_train)\n",
    "result_test = classifier.predict(IMDB_freq_test)\n",
    "result_valid = classifier.predict(IMDB_freq_valid)\n",
    "\n",
    "\n",
    "print(\"F1 Train: \", skl.metrics.f1_score(IMDB_train_class, result_train, average='macro'))\n",
    "print(\"F1 Valid: \", skl.metrics.f1_score(IMDB_valid_class, result_valid, average='macro'))\n",
    "print(\"F1 Test: \", skl.metrics.f1_score(IMDB_test_class, result_test, average='macro'))\n",
    "print(\"\\n\")"
   ]
  },
  {
   "cell_type": "code",
   "execution_count": 23,
   "metadata": {},
   "outputs": [
    {
     "name": "stdout",
     "output_type": "stream",
     "text": [
      "Linear SVM Classifier\n",
      "Loss squared_hinge\n",
      "Penalty l2\n",
      "F1 Train:  0.8480348627273376\n",
      "F1 Valid:  0.8341636752114183\n",
      "F1 Test:  0.8315000539199827\n",
      "\n",
      "\n"
     ]
    }
   ],
   "source": [
    "\n",
    "f1_measures = []\n",
    "\n",
    "classifier = skl.svm.LinearSVC(penalty=\"l1\", dual=False)\n",
    "classifier.fit(IMDB_freq_train, IMDB_train_class)\n",
    "result = classifier.predict(IMDB_freq_valid)\n",
    "f1_measures.append(skl.metrics.f1_score(IMDB_valid_class, result, average='macro'))\n",
    "           \n",
    "classifier = skl.svm.LinearSVC(penalty=\"l2\", loss=\"hinge\")\n",
    "classifier.fit(IMDB_freq_train, IMDB_train_class)\n",
    "result = classifier.predict(IMDB_freq_valid)\n",
    "f1_measures.append(skl.metrics.f1_score(IMDB_valid_class, result, average='macro'))\n",
    "\n",
    "classifier = skl.svm.LinearSVC(penalty=\"l2\", loss=\"squared_hinge\")\n",
    "classifier.fit(IMDB_freq_train, IMDB_train_class)\n",
    "result = classifier.predict(IMDB_freq_valid)\n",
    "f1_measures.append(skl.metrics.f1_score(IMDB_valid_class, result, average='macro'))\n",
    "        \n",
    "arg = np.argmax(f1_measures)\n",
    "p=\"l2\"\n",
    "l = \"hinge\"\n",
    "if arg==2:\n",
    "    l = \"squared_hinge\"\n",
    "if(arg==0):\n",
    "    p= \"l1\"\n",
    "    l = \"-\"\n",
    "    classifier = skl.svm.LinearSVC(penalty=p, dual=False)\n",
    "else:\n",
    "    classifier = skl.svm.LinearSVC(penalty=p, loss=l)\n",
    "\n",
    "    \n",
    "print(\"Linear SVM Classifier\")\n",
    "print(\"Loss \" + str(l))\n",
    "print(\"Penalty \" + str(p))\n",
    "\n",
    "classifier.fit(IMDB_freq_train, IMDB_train_class)\n",
    "result = classifier.predict(IMDB_freq_test)\n",
    "\n",
    "\n",
    "result_train = classifier.predict(IMDB_freq_train)\n",
    "result_test = classifier.predict(IMDB_freq_test)\n",
    "result_valid = classifier.predict(IMDB_freq_valid)\n",
    "\n",
    "print(\"F1 Train: \", skl.metrics.f1_score(IMDB_train_class, result_train, average='macro'))\n",
    "print(\"F1 Valid: \", skl.metrics.f1_score(IMDB_valid_class, result_valid, average='macro'))\n",
    "print(\"F1 Test: \", skl.metrics.f1_score(IMDB_test_class, result_test, average='macro'))\n",
    "print(\"\\n\")"
   ]
  },
  {
   "cell_type": "code",
   "execution_count": null,
   "metadata": {},
   "outputs": [],
   "source": []
  },
  {
   "cell_type": "code",
   "execution_count": null,
   "metadata": {},
   "outputs": [],
   "source": []
  }
 ],
 "metadata": {
  "kernelspec": {
   "display_name": "Python 3",
   "language": "python",
   "name": "python3"
  },
  "language_info": {
   "codemirror_mode": {
    "name": "ipython",
    "version": 3
   },
   "file_extension": ".py",
   "mimetype": "text/x-python",
   "name": "python",
   "nbconvert_exporter": "python",
   "pygments_lexer": "ipython3",
   "version": "3.5.2"
  }
 },
 "nbformat": 4,
 "nbformat_minor": 2
}

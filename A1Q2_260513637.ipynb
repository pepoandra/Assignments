{
 "cells": [
  {
   "cell_type": "code",
   "execution_count": 9,
   "metadata": {},
   "outputs": [],
   "source": [
    "%matplotlib inline\n",
    "from random import randint\n",
    "import numpy as np\n",
    "import matplotlib\n",
    "import os\n",
    "import pandas as pd\n",
    "import matplotlib.pyplot as plt"
   ]
  },
  {
   "cell_type": "code",
   "execution_count": 10,
   "metadata": {},
   "outputs": [],
   "source": [
    "def calculatePrediction(ex, w):\n",
    "        result = 0\n",
    "        for i in range(len(w)):\n",
    "            result += np.array(ex)**i * w[i]\n",
    "        return result"
   ]
  },
  {
   "cell_type": "code",
   "execution_count": 11,
   "metadata": {},
   "outputs": [],
   "source": [
    "def MSE(predictedY, realY):\n",
    "    error = 0\n",
    "    for i in range(0, len(realY)):\n",
    "        error+=  (predictedY[i] - realY[i])**2\n",
    "    return error/len(realY)  "
   ]
  },
  {
   "cell_type": "code",
   "execution_count": 12,
   "metadata": {},
   "outputs": [],
   "source": [
    "def PLR(degree, x):\n",
    "    ft = np.expand_dims(x, axis=1)\n",
    "    for i in range(0, degree+1): \n",
    "        ft = np.insert(ft, i, x**(i), axis=1)\n",
    "    ft = np.delete(ft, -1, axis=1)\n",
    "    return ft"
   ]
  },
  {
   "cell_type": "code",
   "execution_count": 13,
   "metadata": {},
   "outputs": [],
   "source": [
    "def predict2L(x, y, reg, degree):\n",
    "    regTerm = reg * np.identity(degree+1)\n",
    "    term1 = np.linalg.inv(np.matmul(x.T, x) + regTerm)\n",
    "    term2 = np.matmul(x.T, y)\n",
    "    w = np.matmul(term1, term2)\n",
    "    return w"
   ]
  },
  {
   "cell_type": "code",
   "execution_count": 14,
   "metadata": {},
   "outputs": [
    {
     "data": {
      "image/png": "[encoded data removed]",
      "text/plain": [
       "<matplotlib.figure.Figure at 0x7fe3f5f61b38>"
      ]
     },
     "metadata": {},
     "output_type": "display_data"
    },
    {
     "data": {
      "image/png": "[encoded data removed]",
      "text/plain": [
       "<matplotlib.figure.Figure at 0x7fe3f3abaf28>"
      ]
     },
     "metadata": {},
     "output_type": "display_data"
    },
    {
     "data": {
      "text/plain": [
       "array([1.08512034, 0.74828297, 0.93864793, 0.85942415, 1.25315317,\n",
       "       0.36408641, 0.37814378, 0.90209575, 1.02025267, 0.88034437,\n",
       "       1.09390798, 0.459981  , 1.31715243, 0.85897113, 1.30071339,\n",
       "       1.28788918, 0.42588564, 0.67373671, 0.60474032, 0.5263382 ,\n",
       "       0.99499549, 1.00297116, 0.6381801 , 0.38429724, 0.58557087,\n",
       "       0.55039725, 0.79608593, 0.60400329, 0.82191651, 0.68043876,\n",
       "       1.16763677, 0.65164114, 0.98356323, 0.92729793, 1.06834288,\n",
       "       0.74888179, 0.4656693 , 0.74574467, 0.76192148, 0.41783856,\n",
       "       0.58086371, 0.83387771, 0.57755942, 0.71710098, 1.1828984 ,\n",
       "       0.48533123, 1.04351123, 0.94279501, 1.12997166, 0.86540237,\n",
       "       1.02087058, 0.91027925, 0.83016396, 0.72341405, 0.57186876,\n",
       "       1.25871386, 0.63156958, 1.1114252 , 0.59195672, 0.91819915,\n",
       "       0.53711088, 1.2171255 , 1.25463511, 0.7160822 , 0.70803916,\n",
       "       0.51360294, 0.56899377, 0.96885112, 0.78724061, 0.56840785,\n",
       "       0.9432027 , 1.01047942, 0.47898989, 0.75543896, 0.5467284 ,\n",
       "       1.18008644, 0.80578292, 0.7571218 , 0.45740073, 0.69739812,\n",
       "       1.17043802, 0.38539926, 1.18670653, 0.99860085, 0.80951771,\n",
       "       0.64672177, 0.70283416, 1.3171218 , 1.28936596, 1.24343866,\n",
       "       0.69231707, 0.69154307, 0.90613316, 0.76150294, 1.19028491,\n",
       "       0.89200827, 0.91302027, 1.20309801, 1.01688308, 1.21399471,\n",
       "       0.50896141, 0.8212758 , 0.6315777 , 0.99953678, 1.2251696 ,\n",
       "       1.28894217, 1.24907929, 0.56903201, 0.58005426, 0.8439989 ,\n",
       "       0.41414954, 0.65805796, 1.20429274, 0.84263147, 1.22204003,\n",
       "       1.1358612 , 0.90519582, 1.20321424, 0.96042053, 0.89910972,\n",
       "       1.29442682, 0.89892512, 0.59325526, 1.04252678, 0.39489105,\n",
       "       0.78180868, 0.81652861, 0.84474307, 0.49148467, 0.61973155,\n",
       "       1.20622785, 1.17685314, 0.79650297, 0.34617588, 0.99753281,\n",
       "       0.99983871, 1.2060041 , 0.46185747, 0.48865456, 1.11613307,\n",
       "       0.55625052, 0.35462566, 0.48194586, 0.70869205, 1.31812773,\n",
       "       0.85208871, 0.39055464, 1.18223575, 0.52364352, 0.91013958,\n",
       "       0.61020888, 0.82676308, 0.92001771, 0.64480872, 1.26539378,\n",
       "       0.99194994, 1.01717296, 1.22175137, 0.64692143, 1.0689347 ,\n",
       "       0.95965585, 0.62399814, 0.912312  , 1.2131425 , 0.70579431,\n",
       "       1.20231887, 1.05060225, 0.61291299, 1.10748194, 0.34452153,\n",
       "       1.30842505, 1.28819863, 1.01608969, 1.20296675, 1.27301149,\n",
       "       0.44324545, 1.16787493, 0.57306866, 0.78087227, 0.851899  ,\n",
       "       0.47203977, 0.86910529, 1.23317855, 1.29277587, 0.48972302,\n",
       "       1.08711991, 0.63020648, 1.29489613, 0.58003534, 1.15997574,\n",
       "       0.55323066, 0.56690954, 1.08401506, 0.76614824, 0.82318892,\n",
       "       0.4220079 , 0.7684214 , 1.14033913, 0.81833147, 0.84897162,\n",
       "       0.53077043, 1.00214696, 0.62149504, 1.26467871, 0.57189987,\n",
       "       0.98082348, 0.85073939, 0.87465884, 1.14325855, 0.60067655,\n",
       "       0.74874631, 0.34133085, 0.62943995, 1.30429298, 1.16926485,\n",
       "       0.96105156, 1.08133541, 0.67727789, 1.11796857, 0.52498402,\n",
       "       0.47758402, 0.87056428, 0.70731468, 0.48166426, 1.20665852,\n",
       "       1.01660651, 0.62308026, 0.85088195, 1.02075082, 0.45423161,\n",
       "       1.15536142, 0.91483664, 0.61192415, 0.90230603, 0.41982176,\n",
       "       0.65960079, 0.36342709, 1.0698382 , 0.88009927, 1.12461209,\n",
       "       0.60264548, 0.55075173, 0.90420511, 1.08919604, 0.97348256,\n",
       "       0.72949521, 1.11754905, 0.97819135, 1.15438204, 0.80182263,\n",
       "       1.11704025, 0.93789552, 0.44747804, 0.49363581, 0.69510978,\n",
       "       1.08051831, 0.75012567, 0.62064467, 0.57415802, 0.58787519,\n",
       "       1.10873898, 0.61281438, 0.38753976, 0.58367432, 1.30435187,\n",
       "       0.98875891, 0.95026143, 1.07921343, 1.08188121, 1.30235555,\n",
       "       1.10009779, 0.73803782, 0.81122559, 1.11170197, 0.35804248,\n",
       "       0.60617877, 1.22197141, 0.34011526, 0.36856191, 1.17815048,\n",
       "       0.34217155, 0.81144547, 0.46007023, 1.27508095, 0.35405119,\n",
       "       0.90411205, 0.46311927, 0.54796707, 0.7912989 , 1.19712868,\n",
       "       0.43054243, 0.64609835, 0.959567  , 0.80780375, 0.99079954,\n",
       "       0.98935234, 0.61661611, 1.04938365, 0.60185132, 1.07195474])"
      ]
     },
     "execution_count": 14,
     "metadata": {},
     "output_type": "execute_result"
    }
   ],
   "source": [
    "dir =  os.path.dirname(os.path.realpath('__file__'))\n",
    "\n",
    "trainFilePath = dir +  \"/Datasets/Dataset_2_train.csv\"\n",
    "validFilePath = dir +  \"/Datasets/Dataset_2_valid.csv\"\n",
    "\n",
    "trainFile = pd.read_csv(trainFilePath, header=None)\n",
    "trainFile = trainFile.drop([2], axis=1)\n",
    "trainX = trainFile[0]\n",
    "trainY = trainFile[1]\n",
    "\n",
    "validFile = pd.read_csv(validFilePath, header=None)\n",
    "validFile = validFile.drop([2], axis=1)\n",
    "validX = validFile[0]\n",
    "validY = validFile[1]\n",
    "\n",
    "w = np.random.rand(2,1)\n",
    "predictedY = calculatePrediction(trainX, w)\n",
    "wa = np.array(w)\n",
    "\n",
    "plt.plot(trainX,trainY,'ro', label=\"Train\")\n",
    "plt.show()\n",
    "\n",
    "plt.plot(validX,validY,'o', label=\"Valid\")\n",
    "plt.show()\n",
    "\n",
    "predictedY"
   ]
  },
  {
   "cell_type": "code",
   "execution_count": 15,
   "metadata": {},
   "outputs": [
    {
     "name": "stdout",
     "output_type": "stream",
     "text": [
      "Epoch:  200\n",
      "MSE valid:  31.48479534740327\n",
      "MSE train:  31.6597117085129\n",
      "Epoch:  400\n",
      "MSE valid:  25.002110266687215\n",
      "MSE train:  25.1204031604063\n",
      "Epoch:  600\n",
      "MSE valid:  19.269618201275204\n",
      "MSE train:  19.340416016945014\n",
      "Epoch:  800\n",
      "MSE valid:  14.287319151168349\n",
      "MSE train:  14.319750278130117\n",
      "Epoch:  1000\n",
      "MSE valid:  10.055213116367964\n",
      "MSE train:  10.05840594396298\n",
      "Epoch:  1200\n",
      "MSE valid:  6.573300096873732\n",
      "MSE train:  6.556383014443261\n",
      "Epoch:  1400\n",
      "MSE valid:  3.8415800926834045\n",
      "MSE train:  3.813681489568696\n",
      "Epoch:  1600\n",
      "MSE valid:  1.8600531037969892\n",
      "MSE train:  1.830301369339292\n",
      "Epoch:  1800\n",
      "MSE valid:  0.6287191302144842\n",
      "MSE train:  0.6062426537550447\n",
      "Epoch:  2000\n",
      "MSE valid:  0.14757817193588824\n",
      "MSE train:  0.14150534281595528\n",
      "Epoch:  2200\n",
      "MSE valid:  0.41663022896122137\n",
      "MSE train:  0.43608943652202725\n",
      "Epoch:  2400\n",
      "MSE valid:  1.4358753012898942\n",
      "MSE train:  1.4899949348726544\n",
      "Epoch:  2600\n",
      "MSE valid:  3.2053133889218173\n",
      "MSE train:  3.3032218378677656\n",
      "Epoch:  2800\n",
      "MSE valid:  5.7249444918569825\n",
      "MSE train:  5.875770145507368\n",
      "Epoch:  3000\n",
      "MSE valid:  8.994768610095399\n",
      "MSE train:  9.207639857791449\n",
      "Epoch:  3200\n",
      "MSE valid:  13.014785743637063\n",
      "MSE train:  13.298830974720033\n",
      "Epoch:  3400\n",
      "MSE valid:  17.78499589248198\n",
      "MSE train:  18.14934349629308\n",
      "Epoch:  3600\n",
      "MSE valid:  23.305399056630137\n",
      "MSE train:  23.75917742251063\n",
      "Epoch:  3800\n",
      "MSE valid:  29.575995236081543\n",
      "MSE train:  30.128332753372664\n",
      "Epoch:  4000\n",
      "MSE valid:  36.5967844308362\n",
      "MSE train:  37.25680948887921\n",
      "Epoch:  4200\n",
      "MSE valid:  44.367766640894104\n",
      "MSE train:  45.144607629030176\n",
      "Epoch:  4400\n",
      "MSE valid:  52.88894186623958\n",
      "MSE train:  53.79172717380979\n",
      "Epoch:  4600\n",
      "MSE valid:  62.16031010688074\n",
      "MSE train:  63.19816812322627\n",
      "Epoch:  4800\n",
      "MSE valid:  72.1818713628167\n",
      "MSE train:  73.36393047727871\n",
      "Epoch:  5000\n",
      "MSE valid:  82.95362563404925\n",
      "MSE train:  84.28901423596876\n"
     ]
    }
   ],
   "source": [
    "alpha = 1e-06\n",
    "\n",
    "testW = np.array(w)\n",
    "validMSE = []\n",
    "trainMSE = []\n",
    "epoch = 0\n",
    "while(epoch < 5000):\n",
    "    for i in range(0, len(predictedY)-1):\n",
    "        temp0 = testW[0] - alpha * (predictedY[i]- trainY[i])\n",
    "        temp1 = testW[1] - alpha * (predictedY[i]- trainY[i])* trainX[i]\n",
    "        testW[0] = temp0\n",
    "        testW[1] = temp1\n",
    "        predictedTrainY = calculatePrediction(trainX, testW)\n",
    "        predictedValidY = calculatePrediction(validX, testW)\n",
    "\n",
    "    epoch += 1\n",
    "    validMSE.append(MSE(predictedValidY, validY))\n",
    "    trainMSE.append(MSE(predictedTrainY, trainY))\n",
    "    if(epoch % 200 == 0):\n",
    "        print(\"Epoch: \", epoch)\n",
    "        print(\"MSE valid: \", MSE(predictedValidY, validY))\n",
    "        print(\"MSE train: \", MSE(predictedTrainY, trainY))\n",
    "    "
   ]
  },
  {
   "cell_type": "code",
   "execution_count": null,
   "metadata": {},
   "outputs": [],
   "source": []
  },
  {
   "cell_type": "code",
   "execution_count": 16,
   "metadata": {},
   "outputs": [
    {
     "data": {
      "image/png": "[encoded data removed]",
      "text/plain": [
       "<matplotlib.figure.Figure at 0x7fe3f3cacac8>"
      ]
     },
     "metadata": {},
     "output_type": "display_data"
    }
   ],
   "source": [
    "epochs = np.linspace(0, 4999, 5000)\n",
    "\n",
    "'''\n",
    "factor = 0.97\n",
    "minMSEtr = max(trainMSE)-(max(trainMSE)-min(trainMSE))*factor\n",
    "minMSEva = max(validMSE)-(max(validMSE)-min(validMSE))*factor\n",
    "for i in epochs:           \n",
    "    if trainMSE[int(i)]<minMSEtr:\n",
    "        indexTrain = float(i)\n",
    "    if validMSE[int(i)]<minMSEva:\n",
    "        indexValid = float(i)\n",
    "print('MSETraining: ', indexTrain)\n",
    "print('MSEValid: ', indexValid)\n",
    "'''\n",
    "plt.figure(figsize=(20,8), dpi = 80)\n",
    "trainingPlot = plt.plot(epochs,  trainMSE, '-', label = 'MSE Training')\n",
    "validationPlot = plt.plot(epochs,  validMSE, '--', label = 'MSE Validation')\n",
    "plt.legend(loc=2)\n",
    "\n",
    "plt.show()\n"
   ]
  },
  {
   "cell_type": "code",
   "execution_count": 17,
   "metadata": {},
   "outputs": [],
   "source": [
    "#Missing:\n",
    "# try different alphas\n",
    "\n",
    "\n",
    "alpha_list = np.arange(0.001,0.05,0.001) \n"
   ]
  },
  {
   "cell_type": "code",
   "execution_count": null,
   "metadata": {},
   "outputs": [],
   "source": []
  },
  {
   "cell_type": "code",
   "execution_count": null,
   "metadata": {},
   "outputs": [],
   "source": []
  },
  {
   "cell_type": "code",
   "execution_count": null,
   "metadata": {},
   "outputs": [],
   "source": []
  }
 ],
 "metadata": {
  "kernelspec": {
   "display_name": "Python 3",
   "language": "python",
   "name": "python3"
  },
  "language_info": {
   "codemirror_mode": {
    "name": "ipython",
    "version": 3
   },
   "file_extension": ".py",
   "mimetype": "text/x-python",
   "name": "python",
   "nbconvert_exporter": "python",
   "pygments_lexer": "ipython3",
   "version": "3.5.2"
  }
 },
 "nbformat": 4,
 "nbformat_minor": 2
}
